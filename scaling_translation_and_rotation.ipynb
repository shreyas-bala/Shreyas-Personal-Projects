{
  "cells": [
    {
      "cell_type": "markdown",
      "metadata": {
        "id": "view-in-github",
        "colab_type": "text"
      },
      "source": [
        "<a href=\"https://colab.research.google.com/github/shreyas-bala/Shreyas-Personal-Projects/blob/main/scaling_translation_and_rotation.ipynb\" target=\"_parent\"><img src=\"https://colab.research.google.com/assets/colab-badge.svg\" alt=\"Open In Colab\"/></a>"
      ]
    },
    {
      "cell_type": "code",
      "source": [
        "import numpy as np\n",
        "import cv2\n",
        "import matplotlib.pyplot as plt\n",
        "from google.colab.patches import cv2_imshow\n",
        "import math\n",
        "#image scanning\n",
        "color_image=cv2.imread('/content/picture.jpg')\n",
        "img=cv2.cvtColor(color_image, cv2.COLOR_BGR2GRAY)\n",
        "img_arr=np.array(img)\n",
        "h,w=img_arr.shape[0],img_arr.shape[1]\n",
        "#print(img_arr.shape,h,w)\n",
        "#Transformation matrix\n",
        "trans_mat=np.array([[1,0,0],\n",
        "[0,1,0],\n",
        "[0,0,1]])\n",
        "\n",
        "finh,finw=h,w\n",
        "def translation(tx,ty):\n",
        "  global trans_mat\n",
        "  global finh\n",
        "  global finw\n",
        "  finh,finw=finh+tx,finw+ty\n",
        "  trans_mat=np.dot(trans_mat,np.array([[1,0,tx],\n",
        "  [0,1,ty],\n",
        "  [0,0,1]]))\n",
        "\n",
        "def scaling(sx,sy):\n",
        "  global trans_mat\n",
        "  global finh\n",
        "  global finw\n",
        "  finh,finw=int(finh*sx),int(finw*sy)\n",
        "  st_x,st_y=finh/h,finw/w\n",
        "  trans_mat=np.dot(trans_mat,np.array([[st_x,0,0],\n",
        "  [0,st_y,0],\n",
        "  [0,0,1]]))\n",
        "\n",
        "def rotation(theta):\n",
        "  global trans_mat\n",
        "  global finh\n",
        "  global finw\n",
        "  ang=math.pi*theta/180\n",
        "  finh,finw=int(finh*np.cos(ang)+finw*np.sin(ang)),int(finh*np.sin(ang)+finw*np.cos(ang))\n",
        "  trans_mat=np.dot(trans_mat,np.array([[np.cos(ang),-np.sin(ang),0],\n",
        "  [np.sin(ang),np.cos(ang),0],\n",
        "  [0,0,1]]))\n",
        "\n",
        "def affine_transformation():\n",
        "  global trans_mat\n",
        "  global finh\n",
        "  global finw\n",
        "  global img\n",
        "  final_img=np.zeros((finh,finw))\n",
        "  for row in range(h):\n",
        "    for col in range(w):\n",
        "      fin_coord=np.dot(trans_mat,np.array([row,col,1]))\n",
        "      x_,y_=int(fin_coord[0]),int(fin_coord[1])\n",
        "      final_img[x_,y_]=img[row,col]\n",
        "  cv2_imshow(final_img)\n",
        "scaling(int(input(\"Enter scaling factor x\")),int(input(\"Enter scaling factory\")))\n",
        "translation(int(input(\"Enter translating factor x\")),int(input(\"Entertranslating factor y\")))\n",
        "rotation(int(input(\"Enter angle of rotation\")))\n",
        "affine_transformation()"
      ],
      "metadata": {
        "colab": {
          "base_uri": "https://localhost:8080/"
        },
        "id": "NLDZc2HxXgsj",
        "outputId": "06c18da1-03b0-4f16-e9ca-f17d005d1c1c"
      },
      "execution_count": null,
      "outputs": [
        {
          "name": "stdout",
          "output_type": "stream",
          "text": [
            "Enter angle of rotation45\n"
          ]
        }
      ]
    }
  ],
  "metadata": {
    "colab": {
      "provenance": [],
      "include_colab_link": true
    },
    "kernelspec": {
      "display_name": "Python 3",
      "name": "python3"
    },
    "language_info": {
      "name": "python"
    }
  },
  "nbformat": 4,
  "nbformat_minor": 0
}